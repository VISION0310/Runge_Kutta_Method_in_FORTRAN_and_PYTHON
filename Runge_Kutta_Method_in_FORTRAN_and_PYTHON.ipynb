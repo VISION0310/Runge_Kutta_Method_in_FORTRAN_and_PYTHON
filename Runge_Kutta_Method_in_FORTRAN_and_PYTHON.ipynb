{
  "nbformat": 4,
  "nbformat_minor": 0,
  "metadata": {
    "colab": {
      "name": "Runge_Kutta_Method in FORTRAN and PYTHON.ipynb",
      "provenance": [],
      "authorship_tag": "ABX9TyMidyUXV3yqtxJWAyLNu1It",
      "include_colab_link": true
    },
    "kernelspec": {
      "name": "python3",
      "display_name": "Python 3"
    },
    "language_info": {
      "name": "python"
    }
  },
  "cells": [
    {
      "cell_type": "markdown",
      "metadata": {
        "id": "view-in-github",
        "colab_type": "text"
      },
      "source": [
        "<a href=\"https://colab.research.google.com/github/VISION0310/Runge_Kutta_Method_in_FORTRAN_and_PYTHON/blob/main/Runge_Kutta_Method_in_FORTRAN_and_PYTHON.ipynb\" target=\"_parent\"><img src=\"https://colab.research.google.com/assets/colab-badge.svg\" alt=\"Open In Colab\"/></a>"
      ]
    },
    {
      "cell_type": "markdown",
      "source": [
        "# **Runge_Kutta_Method in FORTRAN and PYTHON**\n",
        "\n",
        "Runge–Kutta (R–K) methods are the most widely used numerical methods for solving ordinary differential equations. It is especially suitable in the case of ordinary differential equations, where the computation of higher derivatives is complicated. In compared to simpler Euler’s explicit method, R–K methods provide more accurate solution. Here we will discussing two method use to find approximate solution of ordinary differential equation in numerical analysis with initial conditions are given.\n",
        "\n",
        "\n",
        "*   Runge–Kutta 2nd order Methods\n",
        "*   Runge-Kutta 4th order Method\n",
        "\n",
        "\n",
        "\n",
        "---\n",
        "\n",
        "---\n",
        "# **Method of Solving ODE**\n",
        "\n",
        "Let consider ordinay differential equation (of order 1) with initial values as-\n",
        "\n",
        "\n",
        "  $dx/dt = f(t,x) , x(t_0) = x_0$\n",
        "\n",
        "\n",
        "\n",
        "\n",
        "Initial time is $'t0'$ and corresponding $'x=x0'$ and we need to find solution of above ODE at time $'t'$ as $'x(t)=?'$ (where $'t'$ is given).\n",
        "\n",
        "$'dx/dt'$ represent rate at which $'x'$ changes with $'t'$, where, $'x'$ is the function of $'t'$ and $'x'$ itself.\n",
        "\n",
        "\n",
        "---\n",
        "\n",
        "\n",
        "# **R-K 2nd Order Method of Solving ODE**\n",
        "\n",
        "The solution at any time $'t'$ by RK 2nd Order Method is given as-\n",
        "\n",
        " $x_{n+1} = x_n+(1/2)(k_1+k_2)$, where\n",
        "\n",
        " $k_1 = hf(t_n,x_n)$\n",
        "\n",
        " $k_2 = hf(t_n+h,x_n+k_1)$\n",
        "\n",
        " $h$ = time step of iterations and greater than zero ($h > 0$)\n",
        "\n",
        " $n = 0,1,2,3,.....$ represent number of iterations can be calculate using $'(t-t_0)/h'$, where $'t'$ is time at which solution needed.\n",
        "\n",
        "# **R-K 4th Order Method of Solving ODE**\n",
        "The solution at any time $'t'$ by RK 4th Order Method is given as-\n",
        "\n",
        "  $x_{n+1} = x_n+(1/6)(k_1+2k_2+2k_3+k_4)$, where\n",
        "\n",
        "  $k_1 = hf(t_n,x_n)$\n",
        "\n",
        "  $k_2 = hf(t_n+h/2,x_n+k_1/2)$\n",
        "\n",
        "  $k_3 = hf(t_n+h/2,x_n+k_2/2)$\n",
        "\n",
        "  $k_4 = hf(t_n+h,x_n+k_3)$\n",
        "\n",
        " $h$ = time step of iterations and greater than zero ($h > 0$)\n",
        "\n",
        " $n = 0,1,2,3,.....$ represent number of iterations can be calculate using $'(t-t_0)/h'$, where $'t'$ is time at which solution needed."
      ],
      "metadata": {
        "id": "tu5LbvN74Mgb"
      }
    },
    {
      "cell_type": "code",
      "source": [
        ""
      ],
      "metadata": {
        "id": "n_DNQLBv4xxO"
      },
      "execution_count": null,
      "outputs": []
    }
  ]
}