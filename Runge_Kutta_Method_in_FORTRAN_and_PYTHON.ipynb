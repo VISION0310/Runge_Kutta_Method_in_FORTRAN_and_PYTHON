{
  "nbformat": 4,
  "nbformat_minor": 0,
  "metadata": {
    "colab": {
      "name": "Runge_Kutta_Method in FORTRAN and PYTHON.ipynb",
      "provenance": [],
      "authorship_tag": "ABX9TyM+SF5hNTwDNCrfY3nutBuK",
      "include_colab_link": true
    },
    "kernelspec": {
      "name": "python3",
      "display_name": "Python 3"
    },
    "language_info": {
      "name": "python"
    }
  },
  "cells": [
    {
      "cell_type": "markdown",
      "metadata": {
        "id": "view-in-github",
        "colab_type": "text"
      },
      "source": [
        "<a href=\"https://colab.research.google.com/github/VISION0310/Runge_Kutta_Method_in_FORTRAN_and_PYTHON/blob/main/Runge_Kutta_Method_in_FORTRAN_and_PYTHON.ipynb\" target=\"_parent\"><img src=\"https://colab.research.google.com/assets/colab-badge.svg\" alt=\"Open In Colab\"/></a>"
      ]
    },
    {
      "cell_type": "markdown",
      "source": [
        "# **Runge_Kutta_Method in FORTRAN and PYTHON**\n",
        "\n",
        "Runge–Kutta (R–K) methods are the most widely used numerical methods for solving ordinary differential equations. It is especially suitable in the case of ordinary differential equations, where the computation of higher derivatives is complicated. In compared to simpler Euler’s explicit method, R–K methods provide more accurate solution. Here we will discussing two method use to find approximate solution of ordinary differential equation in numerical analysis with initial conditions are given.\n",
        "\n",
        "\n",
        "*   Runge–Kutta 2nd order Methods\n",
        "*   Runge-Kutta 4th order Method\n",
        "\n",
        "\n",
        "\n",
        "---\n",
        "\n",
        "---\n",
        "# **Method of Solving ODE**\n",
        "\n",
        "Let consider ordinay differential equation (of order 1) with initial values as-\n",
        "\n",
        "\n",
        "  $dx/dt = f(t,x) , x(t_0) = x_0$\n",
        "\n",
        "\n",
        "\n",
        "\n",
        "Initial time is $'t0'$ and corresponding $'x=x0'$ and we need to find solution of above ODE at time $'t'$ as $'x(t)=?'$ (where $'t'$ is given).\n",
        "\n",
        "$'dx/dt'$ represent rate at which $'x'$ changes with $'t'$, where, $'x'$ is the function of $'t'$ and $'x'$ itself.\n",
        "\n",
        "\n",
        "---\n",
        "\n",
        "\n",
        "# **R-K 2nd Order Method of Solving ODE**\n",
        "\n",
        "The solution at any time $'t'$ by RK 2nd Order Method is given as-\n",
        "\n",
        " $x_{n+1} = x_n+(1/2)(k_1+k_2)$, where\n",
        "\n",
        " $k_1 = hf(t_n,x_n)$\n",
        "\n",
        " $k_2 = hf(t_n+h,x_n+k_1)$\n",
        "\n",
        " $h$ = time step of iterations and greater than zero ($t \\ge h > 0$)\n",
        "\n",
        " $n = 0,1,2,3,.....$ represent number of iterations can be calculate using $'(t-t_0)/h'$, where $'t'$ is time at which solution needed.\n",
        "\n",
        "# **R-K 4th Order Method of Solving ODE**\n",
        "The solution at any time $'t'$ by RK 4th Order Method is given as-\n",
        "\n",
        "  $x_{n+1} = x_n+(1/6)(k_1+2k_2+2k_3+k_4)$, where\n",
        "\n",
        "  $k_1 = hf(t_n,x_n)$\n",
        "\n",
        "  $k_2 = hf(t_n+h/2,x_n+k_1/2)$\n",
        "\n",
        "  $k_3 = hf(t_n+h/2,x_n+k_2/2)$\n",
        "\n",
        "  $k_4 = hf(t_n+h,x_n+k_3)$\n",
        "\n",
        " $h$ = time step of iterations and greater than zero ($t \\ge h > 0$)\n",
        "\n",
        " $n = 0,1,2,3,.....$ represent number of iterations can be calculate using $'(t-t_0)/h'$, where $'t'$ is time at which solution needed."
      ],
      "metadata": {
        "id": "tu5LbvN74Mgb"
      }
    },
    {
      "cell_type": "code",
      "source": [
        "###############################################################################\n",
        "######                                                                   ######\n",
        "######  METHOD OF SOLVING ORDINARY DIFFERETIAL EQUATION IN TWO VARIABLE  ######\n",
        "######                                                                   ######\n",
        "###############################################################################\n",
        "\n",
        "'''\n",
        "    Defining the function dx/dt = f(t,x) as a input function, where\n",
        "\n",
        "    t : float or integer [independent_variable]\n",
        "    x : float or integer [dependent variable]\n",
        "\n",
        "    There are two ways for defining f(t,x) function:\n",
        "    a) using \"def function_name(parameter[s])\".\n",
        "    b) using inbuild \"lambda\" function in python.\n",
        "\n",
        "    Both of which is shown below-\n",
        "\n",
        "    ###########################################################################\n",
        "    # The expression in below two function can be change as per the requirement #\n",
        "    ###########################################################################\n",
        "\n",
        "'''\n",
        "'''\n",
        "    First method: a) Using \"def function_name(parameter[s])\"\n",
        "'''\n",
        "################################################################################\n",
        "def input_function(independent_variable_t, dependent_variable_x):               # defining f(t,x), where (x) and (t) are parameters.\n",
        "  dxdt = dependent_variable_x - independent_variable_t                          # f(t,x) = experssion or equation that are required \n",
        "  return dxdt                                                                   # to solve for a given (t) and (x). For example here \"dxdt = x-t\"    \n",
        "################################################################################\n",
        "\n",
        "'''\n",
        "    Second method: b) Using inbuild \"lambda\" function in python as-\n",
        "    function_name = lambda variable[1], variable[2]: expression \n",
        "    for example, here, expression = f(t,x) = dx/dt = x-t\n",
        "\n",
        "'''\n",
        "################################################################################\n",
        "input_function_lambda = lambda independent_variable_t, dependent_variable_x: (\n",
        "                                  dependent_variable_x - independent_variable_t)\n",
        "################################################################################\n",
        "'''\n",
        "    for example- as our f(t,x) = x-t,\n",
        "    both are giving same result\n",
        "'''\n",
        "print(\"using 'def' function    :\", input_function(87,8))\n",
        "print(\"using 'lambda' function :\", input_function_lambda(87,8))"
      ],
      "metadata": {
        "colab": {
          "base_uri": "https://localhost:8080/"
        },
        "id": "TdsFPOWBhVzM",
        "outputId": "c4f7db67-5e72-4c35-8c74-d5242184431a"
      },
      "execution_count": 13,
      "outputs": [
        {
          "output_type": "stream",
          "name": "stdout",
          "text": [
            "using 'def' function    : -79\n",
            "using 'lambda' function : -79\n"
          ]
        }
      ]
    },
    {
      "cell_type": "code",
      "source": [
        "'''\n",
        "    R-K 2nd and 4th Order Method of Solving ODE\n",
        "  \n",
        "    sol_time_t        : float or integer  ---> time at which solution needed (t)\n",
        "    initial_time_t0   : float or integer  ---> initial time (t0)\n",
        "    initial_value_x0  : float or integer  ---> initial value (x0), at initial time (t0)\n",
        "    time_step_h       : float or integer  ---> time steps of iteration (h)\n",
        "  \n",
        "'''\n",
        "###################  R-K 2nd Order Method of Solving ODE  ######################\n",
        "def rk2(sol_time_t, initial_time_t0, initial_value_x0, time_step_h):                \n",
        "               \n",
        "  if time_step_h > sol_time_t:                                                                      #\n",
        "    raise Exception(\"ERROR...! time_step_h should be smaller than or equal to sol_time_t\")          #\n",
        "                                                                                                    #\n",
        "  for number_of_iteration in range(round((sol_time_t - initial_time_t0)/ time_step_h)):             # \n",
        "    k1 = time_step_h * input_function( initial_time_t0, initial_value_x0 )                          #\n",
        "    k2 = time_step_h * input_function( initial_time_t0 + time_step_h, initial_value_x0 + k1 )       #\n",
        "    solution = initial_value_x0 + (1./2.) * ( k1 + k2 )                                             #\n",
        "    initial_value_x0 = solution                                                                     #\n",
        "    initial_time_t0 += time_step_h                                                                  #\n",
        "  return solution, number_of_iteration+1                                                            #\n",
        "################################################################################\n",
        "\n",
        "\n",
        "###################  R-K 4th Order Method of Solving ODE  ######################\n",
        "def rk4(sol_time_t, initial_time_t0, initial_value_x0, time_step_h):                \n",
        "               \n",
        "  if time_step_h > sol_time_t:                                                                            #\n",
        "    raise Exception(\"ERROR...! time_step_h should be smaller than or equal to sol_time_t\")                #\n",
        "                                                                                                          #\n",
        "  for number_of_iteration in range(round((sol_time_t - initial_time_t0)/ time_step_h)):                   # \n",
        "    k1 = time_step_h * input_function( initial_time_t0, initial_value_x0 )                                #\n",
        "    k2 = time_step_h * input_function( initial_time_t0 + (time_step_h / 2), initial_value_x0 + (k1 / 2) ) #\n",
        "    k3 = time_step_h * input_function( initial_time_t0 + (time_step_h / 2), initial_value_x0 + (k2 / 2) ) #\n",
        "    k4 = time_step_h * input_function( initial_time_t0 + time_step_h, initial_value_x0 + k3 )             #\n",
        "    solution = initial_value_x0 + (1./6.) * ( k1 + 2*k2 + 2*k3 + k4 )                                     #\n",
        "    initial_value_x0 = solution                                                                           #\n",
        "    initial_time_t0 += time_step_h                                                                        #\n",
        "  return solution, number_of_iteration+1\n",
        "################################################################################"
      ],
      "metadata": {
        "id": "P4hXn6pXhb8f"
      },
      "execution_count": 3,
      "outputs": []
    },
    {
      "cell_type": "code",
      "source": [
        "sol_time_t        = 0.2\n",
        "initial_time_t0   = 0\n",
        "initial_value_x0  = 2\n",
        "time_step_h       = 0.1\n",
        "\n",
        "RK_2 = rk2(sol_time_t, initial_time_t0, initial_value_x0, time_step_h)\n",
        "RK_4 = rk4(sol_time_t, initial_time_t0, initial_value_x0, time_step_h)\n",
        "\n",
        "print('solution by RK2 : ',RK_2[0], ', with no. of iteration ',RK_2[1])           ## index 0 in RK_2[0] and RK_4[0] represent solution\n",
        "print('solution by RK4 : ',RK_2[0], ', with no. of iteration ',RK_4[1])           ## index 1 in RK_2[1] and RK_4[1] represent number of iteration\n",
        "\n"
      ],
      "metadata": {
        "colab": {
          "base_uri": "https://localhost:8080/"
        },
        "id": "vDrAyYkKJPpR",
        "outputId": "ee8f1972-28cc-45cf-f58d-3a302efcb909"
      },
      "execution_count": 12,
      "outputs": [
        {
          "output_type": "stream",
          "name": "stdout",
          "text": [
            "solution by RK2 :  2.421025 , with no. of iteration  2\n",
            "solution by RK4 :  2.421025 , with no. of iteration  2\n"
          ]
        }
      ]
    }
  ]
}